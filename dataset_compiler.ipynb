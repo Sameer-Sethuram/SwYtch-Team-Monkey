{
 "cells": [
  {
   "cell_type": "markdown",
   "id": "733ebd62",
   "metadata": {},
   "source": [
    "This is a notebook that will help combine multiple datasets into one, collective dataset for use on the SwYtch Labor Market Analysis project."
   ]
  },
  {
   "cell_type": "markdown",
   "id": "70ef449d",
   "metadata": {},
   "source": [
    "# Import Packages Necessary to Combine Data"
   ]
  },
  {
   "cell_type": "code",
   "execution_count": 1,
   "id": "63156cb2",
   "metadata": {},
   "outputs": [
    {
     "ename": "ModuleNotFoundError",
     "evalue": "No module named 'pandas'",
     "output_type": "error",
     "traceback": [
      "\u001b[1;31m---------------------------------------------------------------------------\u001b[0m",
      "\u001b[1;31mModuleNotFoundError\u001b[0m                       Traceback (most recent call last)",
      "Cell \u001b[1;32mIn[1], line 2\u001b[0m\n\u001b[0;32m      1\u001b[0m \u001b[38;5;28;01mimport\u001b[39;00m\u001b[38;5;250m \u001b[39m\u001b[38;5;21;01mos\u001b[39;00m\n\u001b[1;32m----> 2\u001b[0m \u001b[38;5;28;01mimport\u001b[39;00m\u001b[38;5;250m \u001b[39m\u001b[38;5;21;01mpandas\u001b[39;00m\u001b[38;5;250m \u001b[39m\u001b[38;5;28;01mas\u001b[39;00m\u001b[38;5;250m \u001b[39m\u001b[38;5;21;01mpd\u001b[39;00m\n",
      "\u001b[1;31mModuleNotFoundError\u001b[0m: No module named 'pandas'"
     ]
    }
   ],
   "source": [
    "import os\n",
    "import pandas as pd"
   ]
  },
  {
   "cell_type": "markdown",
   "id": "45ee60d4",
   "metadata": {},
   "source": [
    "# Use Folder Path to get access to all .csv files we need\n",
    "From there, we loop through every file in the folder and add it to the same dataframe"
   ]
  },
  {
   "cell_type": "code",
   "execution_count": null,
   "id": "745b43aa",
   "metadata": {},
   "outputs": [],
   "source": [
    "folder_path = \"C:\\Users\\samee\\OneDrive\\Desktop\\SwYtch Team Monkey\\Individual_Datasets\"\n",
    "x_axis_column = \"timestamp\"  # Replace with your actual x-axis column name\n",
    "\n",
    "merged_df = None\n",
    "\n",
    "for filename in os.listdir(folder_path):\n",
    "    if filename.endswith(\".csv\"):\n",
    "        file_path = os.path.join(folder_path, filename)\n",
    "        temp_df = pd.read_csv(file_path)\n",
    "\n",
    "        # Set x-axis column as index\n",
    "        temp_df.set_index(x_axis_column, inplace=True)\n",
    "\n",
    "        # Rename columns to reflect source file (optional)\n",
    "        temp_df.columns = [f\"{filename[:-4]}_{col}\" for col in temp_df.columns]\n",
    "\n",
    "        # Merge horizontally\n",
    "        if merged_df is None:\n",
    "            merged_df = temp_df\n",
    "        else:\n",
    "            merged_df = pd.merge(merged_df, temp_df, left_index=True, right_index=True, how=\"outer\")\n",
    "\n",
    "# Reset index if needed\n",
    "merged_df.reset_index(inplace=True)\n",
    "\n",
    "print(merged_df.head())\n"
   ]
  }
 ],
 "metadata": {
  "kernelspec": {
   "display_name": "Python 3",
   "language": "python",
   "name": "python3"
  },
  "language_info": {
   "codemirror_mode": {
    "name": "ipython",
    "version": 3
   },
   "file_extension": ".py",
   "mimetype": "text/x-python",
   "name": "python",
   "nbconvert_exporter": "python",
   "pygments_lexer": "ipython3",
   "version": "3.11.5"
  }
 },
 "nbformat": 4,
 "nbformat_minor": 5
}
