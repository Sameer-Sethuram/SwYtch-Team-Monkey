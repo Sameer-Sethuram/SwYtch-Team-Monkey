{
 "cells": [
  {
   "cell_type": "code",
   "execution_count": null,
   "id": "5d8d0ee3",
   "metadata": {},
   "outputs": [],
   "source": [
    "import pandas as pd\n",
    "import matplotlib.pyplot as plt\n",
    "import seaborn as sns\n",
    "import numpy as np"
   ]
  },
  {
   "cell_type": "markdown",
   "id": "7d9ba8fc",
   "metadata": {},
   "source": [
    "### Importing the JOLTS data"
   ]
  },
  {
   "cell_type": "code",
   "execution_count": null,
   "id": "9fb32080",
   "metadata": {},
   "outputs": [],
   "source": [
    "jolts_counts = pd.read_csv('jolts_counts.csv')\n",
    "jolts_percents = pd.read_csv('jolts_percents.csv')\n",
    "jolts_annual_sums = pd.read_csv('jolts_yearly_sums.csv')"
   ]
  },
  {
   "cell_type": "markdown",
   "id": "2959a610",
   "metadata": {},
   "source": [
    "### Removing Not Seasonally Adjusted data from columns list"
   ]
  },
  {
   "cell_type": "code",
   "execution_count": null,
   "id": "9cd408b8",
   "metadata": {},
   "outputs": [],
   "source": [
    "count_columns_by_element = {element: [col for col in jolts_counts.columns if element in col and not 'Not Seasonally Adjusted' in col] for element in data_elements}\n",
    "\n",
    "percent_columns_by_element = {element: [col for col in jolts_percents.columns if element in col and not 'Not Seasonally Adjusted' in col] for element in data_elements}"
   ]
  },
  {
   "cell_type": "markdown",
   "id": "ac66c65f",
   "metadata": {},
   "source": [
    "# Job Openings vs Hirings"
   ]
  },
  {
   "cell_type": "code",
   "execution_count": null,
   "id": "76530a6c",
   "metadata": {},
   "outputs": [],
   "source": [
    "industries_job_openings = [col for col in count_columns_by_element['Job Openings'] if 'Total' not in col]\n",
    "industries_hires = [col for col in count_columns_by_element['Hires'] if 'Total' not in col]"
   ]
  },
  {
   "cell_type": "code",
   "execution_count": null,
   "id": "f255530b",
   "metadata": {},
   "outputs": [],
   "source": [
    "# Plot the cross-correlation matrix between job openings and hirings\n",
    "\n",
    "job_openings_df = jolts_counts[industries_job_openings]\n",
    "hiring_df = jolts_counts[industries_hires]\n",
    "\n",
    "# --- Variables to define (assuming these were defined in the user's environment) ---\n",
    "# jolts_counts = ... (Your main DataFrame)\n",
    "# industries_job_openings = ... (List of JO column names)\n",
    "# industries_hires = ... (List of Hiring column names)\n",
    "# clean_label = lambda x: x.split('-')[0].strip() # Placeholder for cleaning function\n",
    "\n",
    "# --- Start of Time Lag Implementation ---\n",
    "\n",
    "# Define the number of months to lag the predictor (Job Openings)\n",
    "# A value of 3 means we are checking the correlation between Job Openings 3 months ago and Hires today.\n",
    "lag_months = 3 \n",
    "\n",
    "# Apply the shift to the Job Openings DataFrame columns\n",
    "# Shifting by +k aligns the JO data from t-k with the H data at t\n",
    "job_openings_lagged_df = job_openings_df.shift(lag_months)\n",
    "\n",
    "# Initialize the cross-correlation matrix\n",
    "cross_corr_matrix_jo_hires = pd.DataFrame(index=job_openings_df.columns, columns=hiring_df.columns)\n",
    "\n",
    "for jo_col in job_openings_df.columns:\n",
    "    for h_col in hiring_df.columns:\n",
    "        # Correlate the *shifted* Job Openings series with the *current* Hiring series\n",
    "        correlation = job_openings_lagged_df[jo_col].corr(hiring_df[h_col])\n",
    "        cross_corr_matrix_jo_hires.loc[jo_col, h_col] = correlation\n",
    "\n",
    "# Convert the DataFrame to float\n",
    "cross_corr_matrix_jo_hires = cross_corr_matrix_jo_hires.astype(float)\n",
    "\n",
    "# --- The rest of your plotting code (remains the same) ---\n",
    "\n",
    "# Sort rows and columns by average correlation \n",
    "sorted_index_jo = cross_corr_matrix_jo_hires.mean(axis=1).sort_values(ascending=False).index\n",
    "sorted_columns_jo = cross_corr_matrix_jo_hires.mean(axis=0).sort_values(ascending=False).index\n",
    "cross_corr_matrix_jo_hires = cross_corr_matrix_jo_hires.loc[sorted_index_jo, sorted_columns_jo]\n",
    "\n",
    "# Plot the heatmap\n",
    "sns.set(style=\"whitegrid\")\n",
    "plt.figure(figsize=(16, 12))\n",
    "sns.heatmap(cross_corr_matrix_jo_hires, annot=True, fmt=\".2f\", cmap='RdBu_r', center=0, linewidths=0.5, linecolor='gray', cbar_kws={\"shrink\": 0.8})\n",
    "plt.title(f'Job Openings (Lagged by {lag_months} Months) vs. Hirings Correlation Across Industries', fontsize=16)\n",
    "plt.xticks(rotation=45, ha='right')\n",
    "plt.yticks(rotation=0)\n",
    "plt.tight_layout()\n",
    "plt.show()\n"
   ]
  }
 ],
 "metadata": {
  "kernelspec": {
   "display_name": ".venv",
   "language": "python",
   "name": "python3"
  },
  "language_info": {
   "name": "python",
   "version": "3.13.7"
  }
 },
 "nbformat": 4,
 "nbformat_minor": 5
}
