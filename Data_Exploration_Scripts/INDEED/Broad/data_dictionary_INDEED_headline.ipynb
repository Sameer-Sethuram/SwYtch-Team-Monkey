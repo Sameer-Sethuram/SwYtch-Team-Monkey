{
 "cells": [
  {
   "cell_type": "markdown",
   "id": "dacb4697",
   "metadata": {},
   "source": [
    "# 1. Data Dictionary: Can I make them for Indeed Hiring Lab Headline?\n",
    "I'm going to start with seasonally unadjusted first"
   ]
  },
  {
   "cell_type": "code",
   "execution_count": 1,
   "id": "0a40e0c1",
   "metadata": {},
   "outputs": [
    {
     "name": "stdout",
     "output_type": "stream",
     "text": [
      "Requirement already satisfied: pandas in c:\\git\\swytch-team-monkey\\.venv\\lib\\site-packages (2.3.3)\n",
      "Requirement already satisfied: numpy>=1.26.0 in c:\\git\\swytch-team-monkey\\.venv\\lib\\site-packages (from pandas) (2.3.3)\n",
      "Requirement already satisfied: python-dateutil>=2.8.2 in c:\\git\\swytch-team-monkey\\.venv\\lib\\site-packages (from pandas) (2.9.0.post0)\n",
      "Requirement already satisfied: pytz>=2020.1 in c:\\git\\swytch-team-monkey\\.venv\\lib\\site-packages (from pandas) (2025.2)\n",
      "Requirement already satisfied: tzdata>=2022.7 in c:\\git\\swytch-team-monkey\\.venv\\lib\\site-packages (from pandas) (2025.2)\n",
      "Requirement already satisfied: six>=1.5 in c:\\git\\swytch-team-monkey\\.venv\\lib\\site-packages (from python-dateutil>=2.8.2->pandas) (1.17.0)\n",
      "Note: you may need to restart the kernel to use updated packages.\n"
     ]
    }
   ],
   "source": [
    "%pip install pandas"
   ]
  },
  {
   "cell_type": "code",
   "execution_count": 2,
   "id": "b23a9a2a",
   "metadata": {},
   "outputs": [],
   "source": [
    "import pandas as pd\n",
    "import os"
   ]
  },
  {
   "cell_type": "code",
   "execution_count": 3,
   "id": "8c66aa67",
   "metadata": {},
   "outputs": [
    {
     "name": "stderr",
     "output_type": "stream",
     "text": [
      "<>:2: SyntaxWarning: invalid escape sequence '\\g'\n",
      "<>:2: SyntaxWarning: invalid escape sequence '\\g'\n",
      "C:\\Users\\rojas\\AppData\\Local\\Temp\\ipykernel_82400\\2722676470.py:2: SyntaxWarning: invalid escape sequence '\\g'\n",
      "  DATA_PATH = \"C:\\git\\SwYtch-Team-Monkey\\Raw_Data\\Indeed_Hiring_Lab\\Total_US_Market\\job-postings-headline-index-no-seasonal-adjustement.csv\"  # Replace with your actual dataset path\n"
     ]
    }
   ],
   "source": [
    "# === Step 1: Load Dataset ===\n",
    "DATA_PATH = \"C:\\git\\SwYtch-Team-Monkey\\Raw_Data\\Indeed_Hiring_Lab\\Total_US_Market\\job-postings-headline-index-no-seasonal-adjustement.csv\"  # Replace with your actual dataset path\n",
    "df = pd.read_csv(DATA_PATH)"
   ]
  },
  {
   "cell_type": "code",
   "execution_count": 4,
   "id": "84fb9fa7",
   "metadata": {},
   "outputs": [],
   "source": [
    "# === Step 2: Generate Data Dictionary ===\n",
    "def infer_dtype(dtype):\n",
    "    if pd.api.types.is_string_dtype(dtype):\n",
    "        return \"String\"\n",
    "    elif pd.api.types.is_numeric_dtype(dtype):\n",
    "        return \"Numeric\"\n",
    "    elif pd.api.types.is_bool_dtype(dtype):\n",
    "        return \"Boolean\"\n",
    "    elif pd.api.types.is_datetime64_any_dtype(dtype):\n",
    "        return \"Datetime\"\n",
    "    else:\n",
    "        return \"Other\"\n",
    "\n",
    "dictionary_lines = []\n",
    "for col in df.columns:\n",
    "    dtype = infer_dtype(df[col].dtype)\n",
    "    example = df[col].dropna().iloc[0] if not df[col].dropna().empty else \"N/A\"\n",
    "    dictionary_lines.append(f\"    - *{col}* → {dtype} (e.g., {example})  # TODO: Add description\")\n"
   ]
  },
  {
   "cell_type": "code",
   "execution_count": 5,
   "id": "25822727",
   "metadata": {},
   "outputs": [
    {
     "name": "stdout",
     "output_type": "stream",
     "text": [
      "['    - *__typename* → String (e.g., HiringLabNationalPosting)  # TODO: Add description', '    - *dateString* → String (e.g., 2020-02-01)  # TODO: Add description', '    - *countryCode* → String (e.g., US)  # TODO: Add description', '    - *countryName* → String (e.g., United States)  # TODO: Add description', '    - *postingType* → String (e.g., TOTAL)  # TODO: Add description', '    - *value* → Numeric (e.g., 100.0)  # TODO: Add description']\n"
     ]
    }
   ],
   "source": [
    "# === Step 3: Print README Section ===\n",
    "print(dictionary_lines)"
   ]
  },
  {
   "cell_type": "markdown",
   "id": "f1010163",
   "metadata": {},
   "source": [
    "## Seasonally Unadjusted Data Dictionary for INDEED Hiring Lab\n",
    "\n",
    "'    - *__typename* → String (e.g., HiringLabNationalPosting)  # TODO: Add description'\n",
    "\n",
    "'    - *dateString* → String (e.g., 2020-02-01)  # TODO: Add description'\n",
    "\n",
    "'    - *countryCode* → String (e.g., US)  # TODO: Add description'\n",
    "\n",
    "'    - *countryName* → String (e.g., United States)  # TODO: Add description'\n",
    "\n",
    "'    - *postingType* → String (e.g., TOTAL)  # TODO: Add description'\n",
    "\n",
    "'    - *value* → Numeric (e.g., 100.0)  # TODO: Add description'"
   ]
  },
  {
   "cell_type": "code",
   "execution_count": 6,
   "id": "5dc826b8",
   "metadata": {},
   "outputs": [
    {
     "name": "stderr",
     "output_type": "stream",
     "text": [
      "<>:2: SyntaxWarning: invalid escape sequence '\\g'\n",
      "<>:2: SyntaxWarning: invalid escape sequence '\\g'\n",
      "C:\\Users\\rojas\\AppData\\Local\\Temp\\ipykernel_82400\\1325468868.py:2: SyntaxWarning: invalid escape sequence '\\g'\n",
      "  DATA_PATH = \"C:\\git\\SwYtch-Team-Monkey\\Raw_Data\\Indeed_Hiring_Lab\\Total_US_Market\\job-postings-headline-index-seasonal-adjustement.csv\"  # Replace with your actual dataset path\n"
     ]
    }
   ],
   "source": [
    "# === Step 1: Load Dataset ===\n",
    "DATA_PATH = \"C:\\git\\SwYtch-Team-Monkey\\Raw_Data\\Indeed_Hiring_Lab\\Total_US_Market\\job-postings-headline-index-seasonal-adjustement.csv\"  # Replace with your actual dataset path\n",
    "df = pd.read_csv(DATA_PATH)"
   ]
  },
  {
   "cell_type": "code",
   "execution_count": 7,
   "id": "cde72cfe",
   "metadata": {},
   "outputs": [],
   "source": [
    "# === Step 2: Generate Data Dictionary ===\n",
    "def infer_dtype(dtype):\n",
    "    if pd.api.types.is_string_dtype(dtype):\n",
    "        return \"String\"\n",
    "    elif pd.api.types.is_numeric_dtype(dtype):\n",
    "        return \"Numeric\"\n",
    "    elif pd.api.types.is_bool_dtype(dtype):\n",
    "        return \"Boolean\"\n",
    "    elif pd.api.types.is_datetime64_any_dtype(dtype):\n",
    "        return \"Datetime\"\n",
    "    else:\n",
    "        return \"Other\"\n",
    "\n",
    "dictionary_lines = []\n",
    "for col in df.columns:\n",
    "    dtype = infer_dtype(df[col].dtype)\n",
    "    example = df[col].dropna().iloc[0] if not df[col].dropna().empty else \"N/A\"\n",
    "    dictionary_lines.append(f\"    - *{col}* → {dtype} (e.g., {example})  # TODO: Add description\")\n"
   ]
  },
  {
   "cell_type": "code",
   "execution_count": 8,
   "id": "034fa5c4",
   "metadata": {},
   "outputs": [
    {
     "name": "stdout",
     "output_type": "stream",
     "text": [
      "['    - *__typename* → String (e.g., HiringLabNationalPosting)  # TODO: Add description', '    - *dateString* → String (e.g., 2020-02-01)  # TODO: Add description', '    - *countryCode* → String (e.g., US)  # TODO: Add description', '    - *countryName* → String (e.g., United States)  # TODO: Add description', '    - *postingType* → String (e.g., TOTAL)  # TODO: Add description', '    - *value* → Numeric (e.g., 100.0)  # TODO: Add description']\n"
     ]
    }
   ],
   "source": [
    "# === Step 3: Print README Section ===\n",
    "print(dictionary_lines)"
   ]
  },
  {
   "cell_type": "markdown",
   "id": "b3f71ca8",
   "metadata": {},
   "source": [
    "## Seasonally Adjusted Data Dictionary for INDEED Hiring Lab\n",
    "\n",
    "'    - *__typename* → String (e.g., HiringLabNationalPosting)  # TODO: Add description'\n",
    "\n",
    "'    - *dateString* → String (e.g., 2020-02-01)  # TODO: Add description'\n",
    "\n",
    "'    - *countryCode* → String (e.g., US)  # TODO: Add description'\n",
    "\n",
    "'    - *countryName* → String (e.g., United States)  # TODO: Add description'\n",
    "\n",
    "'    - *postingType* → String (e.g., TOTAL)  # TODO: Add description'\n",
    "\n",
    "'    - *value* → Numeric (e.g., 100.0)  # TODO: Add description'"
   ]
  },
  {
   "cell_type": "markdown",
   "id": "b6d1dc0e",
   "metadata": {},
   "source": [
    "# CONCLUSION: Both headlines contain the same columns"
   ]
  }
 ],
 "metadata": {
  "kernelspec": {
   "display_name": ".venv",
   "language": "python",
   "name": "python3"
  },
  "language_info": {
   "codemirror_mode": {
    "name": "ipython",
    "version": 3
   },
   "file_extension": ".py",
   "mimetype": "text/x-python",
   "name": "python",
   "nbconvert_exporter": "python",
   "pygments_lexer": "ipython3",
   "version": "3.13.3"
  }
 },
 "nbformat": 4,
 "nbformat_minor": 5
}
