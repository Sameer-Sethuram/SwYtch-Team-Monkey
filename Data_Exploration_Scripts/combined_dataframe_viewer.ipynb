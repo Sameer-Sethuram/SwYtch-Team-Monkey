{
  "cells": [
    {
      "cell_type": "markdown",
      "metadata": {},
      "source": [
        "# Combined DataFrame Viewer for Indeed Hiring Lab Sectors\n",
        "\n",
        "This notebook loads all CSV files from the seasonally unadjusted sectors data and combines them into a single dataframe for analysis.\n"
      ]
    },
    {
      "cell_type": "code",
      "execution_count": null,
      "metadata": {},
      "outputs": [],
      "source": [
        "# Install and import required libraries\n",
        "%pip install pandas numpy matplotlib seaborn\n"
      ]
    },
    {
      "cell_type": "code",
      "execution_count": null,
      "metadata": {},
      "outputs": [],
      "source": [
        "import pandas as pd\n",
        "import numpy as np\n",
        "import os\n",
        "import glob\n",
        "import matplotlib.pyplot as plt\n",
        "import seaborn as sns\n",
        "\n",
        "# Set up display options for better viewing\n",
        "pd.set_option('display.max_columns', None)\n",
        "pd.set_option('display.max_rows', 100)\n",
        "pd.set_option('display.width', None)\n",
        "pd.set_option('display.max_colwidth', None)\n",
        "\n",
        "print(\"Libraries imported successfully!\")\n"
      ]
    },
    {
      "cell_type": "code",
      "execution_count": null,
      "metadata": {},
      "outputs": [],
      "source": [
        "# Set up the data path and find all CSV files\n",
        "DATA_PATH = r\"C:\\git\\SwYtch-Team-Monkey\\Raw_Data\\Indeed_Hiring_Lab\\Sectors\\seasonally_unadjusted\"\n",
        "\n",
        "# Get all CSV files in the directory\n",
        "csv_files = glob.glob(os.path.join(DATA_PATH, \"*.csv\"))\n",
        "\n",
        "print(f\"Found {len(csv_files)} CSV files:\")\n",
        "for i, file in enumerate(csv_files, 1):\n",
        "    print(f\"  {i}. {os.path.basename(file)}\")\n",
        "\n",
        "print(f\"\\nFull path: {DATA_PATH}\")\n"
      ]
    }
  ],
  "metadata": {
    "language_info": {
      "name": "python"
    }
  },
  "nbformat": 4,
  "nbformat_minor": 2
}
